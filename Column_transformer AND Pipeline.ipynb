{
 "cells": [
  {
   "cell_type": "code",
   "execution_count": 80,
   "id": "62774676",
   "metadata": {},
   "outputs": [],
   "source": [
    "import pandas as pd\n",
    "from plotly.subplots import make_subplots\n",
    "from sklearn.model_selection import train_test_split\n",
    "from sklearn.compose import ColumnTransformer\n",
    "from sklearn.pipeline import Pipeline\n",
    "from sklearn.preprocessing import OneHotEncoder\n",
    "from sklearn.preprocessing import StandardScaler\n",
    "from sklearn.compose import make_column_transformer"
   ]
  },
  {
   "cell_type": "code",
   "execution_count": 2,
   "id": "d578da7b",
   "metadata": {},
   "outputs": [],
   "source": [
    "df = pd.read_csv(\"student-por.csv\")"
   ]
  },
  {
   "cell_type": "code",
   "execution_count": 15,
   "id": "ce3dcff2",
   "metadata": {},
   "outputs": [],
   "source": [
    "# we take a sample\n",
    "dt = df.iloc[:10][[\"school\",\"sex\",\"age\",\"Medu\",\"G3\"]]"
   ]
  },
  {
   "cell_type": "code",
   "execution_count": 89,
   "id": "03f2cf7b",
   "metadata": {},
   "outputs": [
    {
     "data": {
      "text/html": [
       "<div>\n",
       "<style scoped>\n",
       "    .dataframe tbody tr th:only-of-type {\n",
       "        vertical-align: middle;\n",
       "    }\n",
       "\n",
       "    .dataframe tbody tr th {\n",
       "        vertical-align: top;\n",
       "    }\n",
       "\n",
       "    .dataframe thead th {\n",
       "        text-align: right;\n",
       "    }\n",
       "</style>\n",
       "<table border=\"1\" class=\"dataframe\">\n",
       "  <thead>\n",
       "    <tr style=\"text-align: right;\">\n",
       "      <th></th>\n",
       "      <th>school</th>\n",
       "      <th>sex</th>\n",
       "      <th>age</th>\n",
       "      <th>Medu</th>\n",
       "      <th>G3</th>\n",
       "    </tr>\n",
       "  </thead>\n",
       "  <tbody>\n",
       "    <tr>\n",
       "      <th>0</th>\n",
       "      <td>GP</td>\n",
       "      <td>F</td>\n",
       "      <td>18</td>\n",
       "      <td>4</td>\n",
       "      <td>11</td>\n",
       "    </tr>\n",
       "    <tr>\n",
       "      <th>1</th>\n",
       "      <td>GP</td>\n",
       "      <td>F</td>\n",
       "      <td>17</td>\n",
       "      <td>1</td>\n",
       "      <td>11</td>\n",
       "    </tr>\n",
       "    <tr>\n",
       "      <th>2</th>\n",
       "      <td>GP</td>\n",
       "      <td>F</td>\n",
       "      <td>15</td>\n",
       "      <td>1</td>\n",
       "      <td>12</td>\n",
       "    </tr>\n",
       "    <tr>\n",
       "      <th>3</th>\n",
       "      <td>GP</td>\n",
       "      <td>F</td>\n",
       "      <td>15</td>\n",
       "      <td>4</td>\n",
       "      <td>14</td>\n",
       "    </tr>\n",
       "    <tr>\n",
       "      <th>4</th>\n",
       "      <td>GP</td>\n",
       "      <td>F</td>\n",
       "      <td>16</td>\n",
       "      <td>3</td>\n",
       "      <td>13</td>\n",
       "    </tr>\n",
       "    <tr>\n",
       "      <th>5</th>\n",
       "      <td>GP</td>\n",
       "      <td>M</td>\n",
       "      <td>16</td>\n",
       "      <td>4</td>\n",
       "      <td>13</td>\n",
       "    </tr>\n",
       "    <tr>\n",
       "      <th>6</th>\n",
       "      <td>GP</td>\n",
       "      <td>M</td>\n",
       "      <td>16</td>\n",
       "      <td>2</td>\n",
       "      <td>13</td>\n",
       "    </tr>\n",
       "    <tr>\n",
       "      <th>7</th>\n",
       "      <td>GP</td>\n",
       "      <td>F</td>\n",
       "      <td>17</td>\n",
       "      <td>4</td>\n",
       "      <td>13</td>\n",
       "    </tr>\n",
       "    <tr>\n",
       "      <th>8</th>\n",
       "      <td>GP</td>\n",
       "      <td>M</td>\n",
       "      <td>15</td>\n",
       "      <td>3</td>\n",
       "      <td>17</td>\n",
       "    </tr>\n",
       "    <tr>\n",
       "      <th>9</th>\n",
       "      <td>GP</td>\n",
       "      <td>M</td>\n",
       "      <td>15</td>\n",
       "      <td>3</td>\n",
       "      <td>13</td>\n",
       "    </tr>\n",
       "  </tbody>\n",
       "</table>\n",
       "</div>"
      ],
      "text/plain": [
       "  school sex  age  Medu  G3\n",
       "0     GP   F   18     4  11\n",
       "1     GP   F   17     1  11\n",
       "2     GP   F   15     1  12\n",
       "3     GP   F   15     4  14\n",
       "4     GP   F   16     3  13\n",
       "5     GP   M   16     4  13\n",
       "6     GP   M   16     2  13\n",
       "7     GP   F   17     4  13\n",
       "8     GP   M   15     3  17\n",
       "9     GP   M   15     3  13"
      ]
     },
     "execution_count": 89,
     "metadata": {},
     "output_type": "execute_result"
    }
   ],
   "source": [
    "dt"
   ]
  },
  {
   "cell_type": "code",
   "execution_count": 24,
   "id": "a130c3a8",
   "metadata": {},
   "outputs": [],
   "source": [
    "# we separate the features and target\n",
    "X = dt.drop(\"G3\", axis=1)\n",
    "y = dt[\"G3\"]"
   ]
  },
  {
   "cell_type": "code",
   "execution_count": 40,
   "id": "5e480ab3",
   "metadata": {},
   "outputs": [
    {
     "data": {
      "text/html": [
       "<div>\n",
       "<style scoped>\n",
       "    .dataframe tbody tr th:only-of-type {\n",
       "        vertical-align: middle;\n",
       "    }\n",
       "\n",
       "    .dataframe tbody tr th {\n",
       "        vertical-align: top;\n",
       "    }\n",
       "\n",
       "    .dataframe thead th {\n",
       "        text-align: right;\n",
       "    }\n",
       "</style>\n",
       "<table border=\"1\" class=\"dataframe\">\n",
       "  <thead>\n",
       "    <tr style=\"text-align: right;\">\n",
       "      <th></th>\n",
       "      <th>school</th>\n",
       "      <th>sex</th>\n",
       "      <th>age</th>\n",
       "      <th>Medu</th>\n",
       "    </tr>\n",
       "  </thead>\n",
       "  <tbody>\n",
       "    <tr>\n",
       "      <th>0</th>\n",
       "      <td>GP</td>\n",
       "      <td>F</td>\n",
       "      <td>18</td>\n",
       "      <td>4</td>\n",
       "    </tr>\n",
       "    <tr>\n",
       "      <th>1</th>\n",
       "      <td>GP</td>\n",
       "      <td>F</td>\n",
       "      <td>17</td>\n",
       "      <td>1</td>\n",
       "    </tr>\n",
       "    <tr>\n",
       "      <th>2</th>\n",
       "      <td>GP</td>\n",
       "      <td>F</td>\n",
       "      <td>15</td>\n",
       "      <td>1</td>\n",
       "    </tr>\n",
       "    <tr>\n",
       "      <th>3</th>\n",
       "      <td>GP</td>\n",
       "      <td>F</td>\n",
       "      <td>15</td>\n",
       "      <td>4</td>\n",
       "    </tr>\n",
       "    <tr>\n",
       "      <th>4</th>\n",
       "      <td>GP</td>\n",
       "      <td>F</td>\n",
       "      <td>16</td>\n",
       "      <td>3</td>\n",
       "    </tr>\n",
       "    <tr>\n",
       "      <th>5</th>\n",
       "      <td>GP</td>\n",
       "      <td>M</td>\n",
       "      <td>16</td>\n",
       "      <td>4</td>\n",
       "    </tr>\n",
       "    <tr>\n",
       "      <th>6</th>\n",
       "      <td>GP</td>\n",
       "      <td>M</td>\n",
       "      <td>16</td>\n",
       "      <td>2</td>\n",
       "    </tr>\n",
       "    <tr>\n",
       "      <th>7</th>\n",
       "      <td>GP</td>\n",
       "      <td>F</td>\n",
       "      <td>17</td>\n",
       "      <td>4</td>\n",
       "    </tr>\n",
       "    <tr>\n",
       "      <th>8</th>\n",
       "      <td>GP</td>\n",
       "      <td>M</td>\n",
       "      <td>15</td>\n",
       "      <td>3</td>\n",
       "    </tr>\n",
       "    <tr>\n",
       "      <th>9</th>\n",
       "      <td>GP</td>\n",
       "      <td>M</td>\n",
       "      <td>15</td>\n",
       "      <td>3</td>\n",
       "    </tr>\n",
       "  </tbody>\n",
       "</table>\n",
       "</div>"
      ],
      "text/plain": [
       "  school sex  age  Medu\n",
       "0     GP   F   18     4\n",
       "1     GP   F   17     1\n",
       "2     GP   F   15     1\n",
       "3     GP   F   15     4\n",
       "4     GP   F   16     3\n",
       "5     GP   M   16     4\n",
       "6     GP   M   16     2\n",
       "7     GP   F   17     4\n",
       "8     GP   M   15     3\n",
       "9     GP   M   15     3"
      ]
     },
     "execution_count": 40,
     "metadata": {},
     "output_type": "execute_result"
    }
   ],
   "source": [
    "X"
   ]
  },
  {
   "cell_type": "markdown",
   "id": "eaa87a9b",
   "metadata": {},
   "source": [
    "<h2>First approach"
   ]
  },
  {
   "cell_type": "code",
   "execution_count": 98,
   "id": "dd136834",
   "metadata": {},
   "outputs": [
    {
     "data": {
      "text/plain": [
       "ColumnTransformer(remainder='passthrough',\n",
       "                  transformers=[('onehotencoder', OneHotEncoder(),\n",
       "                                 ['school', 'sex']),\n",
       "                                ('standardscaler', StandardScaler(),\n",
       "                                 ['age', 'Medu'])])"
      ]
     },
     "execution_count": 98,
     "metadata": {},
     "output_type": "execute_result"
    }
   ],
   "source": [
    "\n",
    "ohe = OneHotEncoder() \n",
    "std = StandardScaler()\n",
    "ct = make_column_transformer(\n",
    "    (ohe, [\"school\", \"sex\"]), # ohe only on the categorical variables \n",
    "    (std, [\"age\",\"Medu\"]), # std only on the numerical variable \n",
    "    remainder='passthrough') # passthrough the features that we don't use \n",
    "ct.fit(X)"
   ]
  },
  {
   "cell_type": "code",
   "execution_count": 70,
   "id": "52504151",
   "metadata": {},
   "outputs": [
    {
     "data": {
      "text/plain": [
       "array([[ 1.        ,  1.        ,  0.        ,  2.        ,  0.968496  ],\n",
       "       [ 1.        ,  1.        ,  0.        ,  1.        , -1.67285672],\n",
       "       [ 1.        ,  1.        ,  0.        , -1.        , -1.67285672],\n",
       "       [ 1.        ,  1.        ,  0.        , -1.        ,  0.968496  ],\n",
       "       [ 1.        ,  1.        ,  0.        ,  0.        ,  0.08804509],\n",
       "       [ 1.        ,  0.        ,  1.        ,  0.        ,  0.968496  ],\n",
       "       [ 1.        ,  0.        ,  1.        ,  0.        , -0.79240582],\n",
       "       [ 1.        ,  1.        ,  0.        ,  1.        ,  0.968496  ],\n",
       "       [ 1.        ,  0.        ,  1.        , -1.        ,  0.08804509],\n",
       "       [ 1.        ,  0.        ,  1.        , -1.        ,  0.08804509]])"
      ]
     },
     "execution_count": 70,
     "metadata": {},
     "output_type": "execute_result"
    }
   ],
   "source": [
    "# We have done only the standard scaler on the age and Medu we want a standard scaler on all the dataset \n",
    "ct.fit_transform(X)"
   ]
  },
  {
   "cell_type": "markdown",
   "id": "91c765cc",
   "metadata": {},
   "source": [
    "<h1> With pipeline"
   ]
  },
  {
   "cell_type": "code",
   "execution_count": 78,
   "id": "8290a2ae",
   "metadata": {},
   "outputs": [],
   "source": [
    "ctt = make_column_transformer(\n",
    "    (ohe, [\"school\", \"sex\"]),\n",
    "    remainder='passthrough')"
   ]
  },
  {
   "cell_type": "code",
   "execution_count": 83,
   "id": "f228b290",
   "metadata": {},
   "outputs": [
    {
     "name": "stdout",
     "output_type": "stream",
     "text": [
      "(8, 4) (2, 4) (8,) (2,)\n"
     ]
    }
   ],
   "source": [
    "# Separe in training set and testing set \n",
    "X_train , X_test, y_train, y_test = train_test_split(X, y, test_size=0.20, random_state=10)\n",
    "print(X_train.shape,X_test.shape, y_train.shape, y_test.shape)"
   ]
  },
  {
   "cell_type": "code",
   "execution_count": 97,
   "id": "66e513d1",
   "metadata": {},
   "outputs": [
    {
     "data": {
      "text/plain": [
       "array([[ 0.        , -1.29099445,  1.29099445, -0.25819889,  0.83074716],\n",
       "       [ 0.        , -1.29099445,  1.29099445, -0.25819889, -1.06810349],\n",
       "       [ 0.        ,  0.77459667, -0.77459667, -1.29099445,  0.83074716],\n",
       "       [ 0.        ,  0.77459667, -0.77459667,  0.77459667, -2.01752882],\n",
       "       [ 0.        ,  0.77459667, -0.77459667,  1.80739223,  0.83074716],\n",
       "       [ 0.        ,  0.77459667, -0.77459667,  0.77459667,  0.83074716],\n",
       "       [ 0.        ,  0.77459667, -0.77459667, -0.25819889, -0.11867817],\n",
       "       [ 0.        , -1.29099445,  1.29099445, -1.29099445, -0.11867817]])"
      ]
     },
     "execution_count": 97,
     "metadata": {},
     "output_type": "execute_result"
    }
   ],
   "source": [
    "from sklearn.pipeline import make_pipeline\n",
    "\n",
    "# run before ctt that transfort the school and sex in oneh\n",
    "pipe = make_pipeline(ctt, StandardScaler())\n",
    "\n",
    "pipe.fit_transform(X_train)"
   ]
  }
 ],
 "metadata": {
  "kernelspec": {
   "display_name": "Python 3",
   "language": "python",
   "name": "python3"
  },
  "language_info": {
   "codemirror_mode": {
    "name": "ipython",
    "version": 3
   },
   "file_extension": ".py",
   "mimetype": "text/x-python",
   "name": "python",
   "nbconvert_exporter": "python",
   "pygments_lexer": "ipython3",
   "version": "3.8.8"
  }
 },
 "nbformat": 4,
 "nbformat_minor": 5
}
